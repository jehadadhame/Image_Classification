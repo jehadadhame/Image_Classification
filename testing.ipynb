{
 "cells": [
  {
   "cell_type": "code",
   "execution_count": 1,
   "metadata": {},
   "outputs": [
    {
     "name": "stdout",
     "output_type": "stream",
     "text": [
      "WARNING:tensorflow:From c:\\Users\\jehad\\anaconda3\\Lib\\site-packages\\tf_keras\\src\\losses.py:2976: The name tf.losses.sparse_softmax_cross_entropy is deprecated. Please use tf.compat.v1.losses.sparse_softmax_cross_entropy instead.\n",
      "\n",
      "Using:\n",
      "\t• TensorFlow version: 2.18.0\n",
      "\t• GPU device not found. Running on CPU\n"
     ]
    }
   ],
   "source": [
    "# TODO: Make all necessary imports.\n",
    "%matplotlib inline\n",
    "%config InlineBackend.figure_format = 'retina'\n",
    "\n",
    "import os\n",
    "import numpy as np\n",
    "import matplotlib.pyplot as plt\n",
    "\n",
    "import tensorflow as tf\n",
    "import tensorflow_datasets as tfds\n",
    "import tensorflow_hub as hub\n",
    "\n",
    "from tensorflow.keras.preprocessing.image import ImageDataGenerator\n",
    "import logging\n",
    "logger = tf.get_logger()\n",
    "logger.setLevel(logging.ERROR)\n",
    "print('Using:')\n",
    "print('\\t\\u2022 TensorFlow version:', tf.__version__)\n",
    "print('\\t\\u2022 Running on GPU' if tf.test.is_gpu_available() else '\\t\\u2022 GPU device not found. Running on CPU')\n",
    "physical_devices = tf.config.list_physical_devices('GPU')\n",
    "for device in physical_devices:\n",
    "    tf.config.experimental.set_memory_growth(device, True)"
   ]
  },
  {
   "cell_type": "code",
   "execution_count": 2,
   "metadata": {},
   "outputs": [],
   "source": [
    "import tensorflow as tf\n",
    "import tensorflow_hub as hub\n",
    "\n",
    "class Network(tf.keras.Model):\n",
    "    def __init__(self, num_classes):\n",
    "        super().__init__()\n",
    "        self.num_classes = num_classes\n",
    "        # URLs for the feature extractors\n",
    "        URL1 = \"https://tfhub.dev/google/imagenet/mobilenet_v3_large_075_224/feature_vector/5\"\n",
    "        URL2 = \"https://tfhub.dev/google/imagenet/resnet_v2_50/feature_vector/5\"\n",
    "\n",
    "        # Define the feature extractors\n",
    "        self.feature_extractor1 = hub.KerasLayer(URL1, trainable=False, input_shape=(224, 224, 3))\n",
    "        self.feature_extractor2 = hub.KerasLayer(URL2, trainable=False, input_shape=(224, 224, 3))\n",
    "\n",
    "        # Define fully connected layers\n",
    "        self.dense1 = tf.keras.layers.Dense(1024, activation='relu', kernel_regularizer=tf.keras.regularizers.l2(0.001))\n",
    "        self.dropout1 = tf.keras.layers.Dropout(0.2)\n",
    "        self.dense2 = tf.keras.layers.Dense(512, activation='relu', kernel_regularizer=tf.keras.regularizers.l2(0.001))\n",
    "        self.dropout2 = tf.keras.layers.Dropout(0.2)\n",
    "        self.output_layer = tf.keras.layers.Dense(num_classes, activation='softmax', kernel_regularizer=tf.keras.regularizers.l2(0.001))\n",
    "\n",
    "    def call(self, x):\n",
    "        # Pass the input image through both feature extractors\n",
    "        x1 = self.feature_extractor1(x)  # Output shape: (batch_size, features1)\n",
    "        x2 = self.feature_extractor2(x)  # Output shape: (batch_size, features2)\n",
    "\n",
    "        # Concatenate the outputs from both extractors\n",
    "        x = tf.concat([x1, x2], axis=-1)\n",
    "\n",
    "        # Pass the concatenated features through the dense layers\n",
    "        x = self.dense1(x)\n",
    "        x = self.dropout1(x)\n",
    "        x = self.dense2(x)\n",
    "        x = self.dropout2(x)\n",
    "        x = self.output_layer(x)\n",
    "        return x\n",
    "    \n",
    "    def get_config(self):\n",
    "        return {\"num_classes\": self.num_classes}\n",
    "\n",
    "    @classmethod\n",
    "    def from_config(cls, config):\n",
    "        return cls(**config)"
   ]
  },
  {
   "cell_type": "code",
   "execution_count": 9,
   "metadata": {},
   "outputs": [],
   "source": [
    "# check this later\n",
    "import tensorflow as tf\n",
    "import tensorflow_hub as hub\n",
    "\n",
    "class Network(tf.keras.Model):\n",
    "    def __init__(self, num_classes):\n",
    "        super().__init__()\n",
    "        # URLs for the feature extractors\n",
    "        URL1 = \"https://tfhub.dev/google/imagenet/mobilenet_v3_large_075_224/feature_vector/5\"\n",
    "        URL2 = \"https://tfhub.dev/google/imagenet/resnet_v2_50/feature_vector/5\"\n",
    "\n",
    "        # Define the feature extractors\n",
    "        self.feature_extractor1 = hub.KerasLayer(URL1, trainable=False, input_shape=(224, 224, 3))\n",
    "        self.feature_extractor2 = hub.KerasLayer(URL2, trainable=False, input_shape=(224, 224, 3))\n",
    "\n",
    "        # Define fully connected layers\n",
    "        self.dense1 = tf.keras.layers.Dense(512, activation='relu', kernel_regularizer=tf.keras.regularizers.l2(0.001))\n",
    "        self.dropout1 = tf.keras.layers.Dropout(0.2)\n",
    "        self.dense2 = tf.keras.layers.Dense(256, activation='relu', kernel_regularizer=tf.keras.regularizers.l2(0.001))\n",
    "        self.dropout2 = tf.keras.layers.Dropout(0.2)\n",
    "        self.output_layer = tf.keras.layers.Dense(num_classes, activation='softmax', kernel_regularizer=tf.keras.regularizers.l2(0.001))\n",
    "\n",
    "    def call(self, x):\n",
    "        # Pass the input image through both feature extractors\n",
    "        x1 = self.feature_extractor1(x)  # Output shape: (batch_size, features1)\n",
    "        x2 = self.feature_extractor2(x)  # Output shape: (batch_size, features2)\n",
    "\n",
    "        # Concatenate the outputs from both extractors\n",
    "        x = tf.concat([x1, x2], axis=-1)\n",
    "\n",
    "        # Pass the concatenated features through the dense layers\n",
    "        x = self.dense1(x)\n",
    "        x = self.dropout1(x)\n",
    "        x = self.dense2(x)\n",
    "        x = self.dropout2(x)\n",
    "        x = self.output_layer(x)\n",
    "        return x\n"
   ]
  },
  {
   "cell_type": "code",
   "execution_count": 7,
   "metadata": {},
   "outputs": [
    {
     "name": "stdout",
     "output_type": "stream",
     "text": [
      "TensorFlow version: 2.18.0\n",
      "TensorFlow Hub version: 0.16.1\n"
     ]
    }
   ],
   "source": [
    "import tensorflow as tf\n",
    "import tensorflow_hub as hub\n",
    "\n",
    "print(\"TensorFlow version:\", tf.__version__)\n",
    "print(\"TensorFlow Hub version:\", hub.__version__)\n"
   ]
  },
  {
   "cell_type": "code",
   "execution_count": 5,
   "metadata": {},
   "outputs": [
    {
     "ename": "NameError",
     "evalue": "name 't' is not defined",
     "output_type": "error",
     "traceback": [
      "\u001b[1;31m---------------------------------------------------------------------------\u001b[0m",
      "\u001b[1;31mNameError\u001b[0m                                 Traceback (most recent call last)",
      "Cell \u001b[1;32mIn[5], line 1\u001b[0m\n\u001b[1;32m----> 1\u001b[0m savedModel_directory \u001b[38;5;241m=\u001b[39m \u001b[38;5;124mf\u001b[39m\u001b[38;5;124m'\u001b[39m\u001b[38;5;124m./multi-tensorflowhub-layers-model\u001b[39m\u001b[38;5;132;01m{\u001b[39;00m\u001b[38;5;28mint\u001b[39m(t)\u001b[38;5;132;01m}\u001b[39;00m\u001b[38;5;124m.keras\u001b[39m\u001b[38;5;124m'\u001b[39m\n\u001b[0;32m      3\u001b[0m loaded_model \u001b[38;5;241m=\u001b[39m tf\u001b[38;5;241m.\u001b[39mkeras\u001b[38;5;241m.\u001b[39mmodels\u001b[38;5;241m.\u001b[39mload_model(\n\u001b[0;32m      4\u001b[0m     savedModel_directory, \n\u001b[0;32m      5\u001b[0m     custom_objects\u001b[38;5;241m=\u001b[39m{\u001b[38;5;124m'\u001b[39m\u001b[38;5;124mNetwork\u001b[39m\u001b[38;5;124m'\u001b[39m: Network}\n\u001b[0;32m      6\u001b[0m )\n",
      "\u001b[1;31mNameError\u001b[0m: name 't' is not defined"
     ]
    }
   ],
   "source": [
    "savedModel_directory = f'./multi-tensorflowhub-layers-model{int(t)}.keras'\n",
    "\n",
    "loaded_model = tf.keras.models.load_model(\n",
    "    './multi-tensorflowhub-layers-model1734443097.keras', \n",
    "    custom_objects={'Network': Network}\n",
    ")\n",
    "# reloaded_model = tf.keras.models.load_model('./1734433943.keras')\n"
   ]
  }
 ],
 "metadata": {
  "kernelspec": {
   "display_name": "base",
   "language": "python",
   "name": "python3"
  },
  "language_info": {
   "codemirror_mode": {
    "name": "ipython",
    "version": 3
   },
   "file_extension": ".py",
   "mimetype": "text/x-python",
   "name": "python",
   "nbconvert_exporter": "python",
   "pygments_lexer": "ipython3",
   "version": "3.12.4"
  }
 },
 "nbformat": 4,
 "nbformat_minor": 2
}
